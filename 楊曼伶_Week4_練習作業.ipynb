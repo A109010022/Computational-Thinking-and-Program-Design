{
  "nbformat": 4,
  "nbformat_minor": 0,
  "metadata": {
    "colab": {
      "name": "楊曼伶-Week4-練習作業.ipynb",
      "provenance": [],
      "collapsed_sections": [],
      "authorship_tag": "ABX9TyN2aAWfTeg45oOCuqetv91t",
      "include_colab_link": true
    },
    "kernelspec": {
      "name": "python3",
      "display_name": "Python 3"
    }
  },
  "cells": [
    {
      "cell_type": "markdown",
      "metadata": {
        "id": "view-in-github",
        "colab_type": "text"
      },
      "source": [
        "<a href=\"https://colab.research.google.com/github/A109010022/Computational-Thinking-and-Program-Design/blob/main/%E6%A5%8A%E6%9B%BC%E4%BC%B6_Week4_%E7%B7%B4%E7%BF%92%E4%BD%9C%E6%A5%AD.ipynb\" target=\"_parent\"><img src=\"https://colab.research.google.com/assets/colab-badge.svg\" alt=\"Open In Colab\"/></a>"
      ]
    },
    {
      "cell_type": "markdown",
      "metadata": {
        "id": "_tzUQoklU0wU"
      },
      "source": [
        "#隨堂練習\r\n",
        "hello"
      ]
    },
    {
      "cell_type": "markdown",
      "metadata": {
        "id": "jlo0DmozVI2Q"
      },
      "source": [
        "#課後練習\r\n",
        "**從一則新聞報導，提出你對新聞系（OO系）學生為什麼要學「運算思維與程式設計」的見解。（告訴我新聞連結，以及你的觀點即可。）**\r\n",
        "\r\n",
        "[新聞連結](https://medium.com/dd-story-hub/p-%E5%AF%A6%E7%BF%92%E7%B6%93%E9%A9%97%E8%AB%87-%E6%96%B0%E8%81%9E%E7%B7%A8%E8%BC%AF%E7%82%BA%E4%BB%80%E9%BA%BC%E8%A6%81%E5%AD%B8%E7%A8%8B%E5%BC%8F%E8%A8%AD%E8%A8%88-bb375fc83bf6)\r\n",
        "\r\n",
        "**觀點:**　　在看完這篇文章後，我才知道原來新聞系熟知程式設計是很重要的事，尤其是在做專題報導的融媒體部分。而且我目前對於網頁設計很有興趣，因為可以把一個新聞專題做得很漂亮的新聞專題頁面這件事情，我覺得很厲害。因此我覺得新聞系的學生也應具備一點程式設計的基本能力，對未來也比較好。"
      ]
    },
    {
      "cell_type": "code",
      "metadata": {
        "id": "fBwJLqoUVOa3"
      },
      "source": [
        ""
      ],
      "execution_count": null,
      "outputs": []
    }
  ]
}