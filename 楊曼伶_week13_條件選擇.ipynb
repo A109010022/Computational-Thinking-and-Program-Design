{
  "nbformat": 4,
  "nbformat_minor": 0,
  "metadata": {
    "kernelspec": {
      "display_name": "Python 3",
      "language": "python",
      "name": "python3"
    },
    "language_info": {
      "codemirror_mode": {
        "name": "ipython",
        "version": 3
      },
      "file_extension": ".py",
      "mimetype": "text/x-python",
      "name": "python",
      "nbconvert_exporter": "python",
      "pygments_lexer": "ipython3",
      "version": "3.8.5"
    },
    "colab": {
      "name": "楊曼伶-week13-條件選擇.ipynb",
      "provenance": [],
      "collapsed_sections": [],
      "include_colab_link": true
    }
  },
  "cells": [
    {
      "cell_type": "markdown",
      "metadata": {
        "id": "view-in-github",
        "colab_type": "text"
      },
      "source": [
        "<a href=\"https://colab.research.google.com/github/A109010022/Computational-Thinking-and-Program-Design/blob/main/%E6%A5%8A%E6%9B%BC%E4%BC%B6_week13_%E6%A2%9D%E4%BB%B6%E9%81%B8%E6%93%87.ipynb\" target=\"_parent\"><img src=\"https://colab.research.google.com/assets/colab-badge.svg\" alt=\"Open In Colab\"/></a>"
      ]
    },
    {
      "cell_type": "markdown",
      "metadata": {
        "id": "KYPzDncHtBx7"
      },
      "source": [
        "### 1. 單向選擇\n"
      ]
    },
    {
      "cell_type": "code",
      "metadata": {
        "id": "nuLu1nfztBx9"
      },
      "source": [
        "## 範例：比較數字（一）: if\n",
        "\n",
        "In [3]: ## 數字資料 （一）\n",
        "   ...: num = int(input(\"請輸入一個數字: \"))\n",
        "   ...: if num > 0:\n",
        "   ...: \tprint(\"數字為正數\")\n",
        "   ...: print(\"比較完畢\")\n",
        "   ...: # 輸入5, 10, -3看結果\n",
        "\n",
        "請輸入一個數字: 5\n",
        "數字為正數\n",
        "比較完畢"
      ],
      "execution_count": null,
      "outputs": []
    },
    {
      "cell_type": "code",
      "metadata": {
        "colab": {
          "base_uri": "https://localhost:8080/"
        },
        "id": "l0i4s0aEtBx-",
        "outputId": "2b476a31-e74e-4cf1-a84e-beb517bc79c5"
      },
      "source": [
        "num = int(input(\"請輸入一個數字：\"))\n",
        "if num > 0 :\n",
        "    print(\"數字為正數\")\n",
        "\n",
        "if num < 0 :\n",
        "    print(\"數字為負數\")\n",
        "\n",
        "if num == 0 :\n",
        "    print(\"數字為0\")\n",
        "\n",
        "print(\"比較完畢\")"
      ],
      "execution_count": null,
      "outputs": [
        {
          "output_type": "stream",
          "text": [
            "請輸入一個數字：0\n",
            "數字為0\n",
            "比較完畢\n"
          ],
          "name": "stdout"
        }
      ]
    },
    {
      "cell_type": "code",
      "metadata": {
        "colab": {
          "base_uri": "https://localhost:8080/",
          "height": 133
        },
        "id": "P4Apw1KMtBx-",
        "outputId": "7eee3cc9-e281-4c4b-b74d-dfe41e9a14a7"
      },
      "source": [
        "## 範例：比較數字（二）:串接if\n",
        "\n",
        "In [5]: num = int(input(\"輸入一個數字： \"))\n",
        "   ...: if num > 0:\n",
        "   ...: \tprint(\"是正數\")\n",
        "   ...: if num < 0:\n",
        "   ...: \tprint(\"是負數\")\n",
        "   ...: if num == 0:\n",
        "   ...: \tprint(\"數字是0\")\n",
        "   ...: print(\"比較完畢！\")\n",
        "\n",
        "輸入一個數字： 5\n",
        "是正數\n",
        "比較完畢！"
      ],
      "execution_count": null,
      "outputs": [
        {
          "output_type": "error",
          "ename": "IndentationError",
          "evalue": "ignored",
          "traceback": [
            "\u001b[0;36m  File \u001b[0;32m\"<ipython-input-7-55e96cd274ac>\"\u001b[0;36m, line \u001b[0;32m4\u001b[0m\n\u001b[0;31m    ...: if num > 0:\u001b[0m\n\u001b[0m    ^\u001b[0m\n\u001b[0;31mIndentationError\u001b[0m\u001b[0;31m:\u001b[0m unexpected indent\n"
          ]
        }
      ]
    },
    {
      "cell_type": "code",
      "metadata": {
        "id": "RACEyFq-tBx_"
      },
      "source": [
        ""
      ],
      "execution_count": null,
      "outputs": []
    },
    {
      "cell_type": "code",
      "metadata": {
        "id": "1Hx6bIB5tBx_"
      },
      "source": [
        "## 範例：比較數字（三）:巢狀條件式\n",
        "\n",
        "In [6]: ## 巢狀條件式\n",
        "   ...: num_a = int(input(\"輸入第一個數字？ \"))\n",
        "   ...: num_b = int(input(\"輸入第二個數字？ \"))\n",
        "   ...: \n",
        "   ...: if num_a < 0:\n",
        "   ...: \tprint(\"第一個是負數\")\n",
        "   ...: \tif num_b < 0:\n",
        "   ...: \t\tprint(\"第二個也是負數\")\n",
        "   ...: print(\"比較完成\")\n",
        "\n",
        "輸入第一個數字？ 5\n",
        "\n",
        "輸入第二個數字？ 8\n",
        "比較完成\n",
        "\n",
        "In [7]: ## 非巢狀結構\n",
        "   ...: num_a = int(input(\"輸入第一個數字？ \"))\n",
        "   ...: num_b = int(input(\"輸入第二個數字？ \"))\n",
        "   ...: \n",
        "   ...: if num_a < 0:\n",
        "   ...: \tprint(\"第一個是負數\")\n",
        "   ...: if num_b < 0:\n",
        "   ...: \tprint(\"第二個是負數\")\n",
        "   ...: print(\"比較完成\")\n",
        "\n",
        "輸入第一個數字？ 5\n",
        "\n",
        "輸入第二個數字？ 8\n",
        "比較完成\n",
        "\n",
        "## 加分:請舉例說明這兩個程式的執行結果何時會不同?"
      ],
      "execution_count": null,
      "outputs": []
    },
    {
      "cell_type": "code",
      "metadata": {
        "colab": {
          "base_uri": "https://localhost:8080/"
        },
        "id": "qHWMDWt5tByA",
        "outputId": "82a0a1cf-0a4b-47d7-9ef7-32f34aa94302"
      },
      "source": [
        "##Input data\n",
        "\n",
        "num_a = int(input(\"請輸入第一個數字：\"))\n",
        "num_b = int(input(\"請輸入第二個數字：\"))\n",
        "\n",
        "##巢狀條件式\n",
        "\n",
        "if num_a < 0:\n",
        "    print(\"第一個是負數\")\n",
        "if num_b < 0:\n",
        "    print(\"第二個也是負數\")\n",
        "\n",
        "if num_a > 0:\n",
        "    print(\"第一個是正數\")\n",
        "if num_b > 0:\n",
        "    print(\"第二個也是正數\")\n",
        "\n",
        "print('比較完成')"
      ],
      "execution_count": null,
      "outputs": [
        {
          "output_type": "stream",
          "text": [
            "請輸入第一個數字：5\n",
            "請輸入第二個數字：6\n",
            "第一個是正數\n",
            "第二個也是正數\n",
            "比較完成\n"
          ],
          "name": "stdout"
        }
      ]
    },
    {
      "cell_type": "code",
      "metadata": {
        "colab": {
          "base_uri": "https://localhost:8080/",
          "height": 133
        },
        "id": "wVxt_ud-tByA",
        "outputId": "141f0d7d-042c-4359-ba01-d46a8708f1c5"
      },
      "source": [
        "**範例：今晚要煮義大利麵嗎?**"
      ],
      "execution_count": null,
      "outputs": [
        {
          "output_type": "error",
          "ename": "SyntaxError",
          "evalue": "ignored",
          "traceback": [
            "\u001b[0;36m  File \u001b[0;32m\"<ipython-input-10-bec47b6d7fcd>\"\u001b[0;36m, line \u001b[0;32m1\u001b[0m\n\u001b[0;31m    **範例：今晚要煮義大利麵嗎?**\u001b[0m\n\u001b[0m     ^\u001b[0m\n\u001b[0;31mSyntaxError\u001b[0m\u001b[0;31m:\u001b[0m invalid syntax\n"
          ]
        }
      ]
    },
    {
      "cell_type": "code",
      "metadata": {
        "id": "W9aHHLeOtByA"
      },
      "source": [
        "In [10]: ## 今晚吃義大利麵嗎？\n",
        "    ...: noodle = input(\"有麵嗎？ YES or NO: \")\n",
        "    ...: sauce = input(\"有醬料嗎？ YES or NO: \")\n",
        "    ...: \n",
        "    ...: ## 方法（一）\n",
        "    ...: if noodle==\"YES\" and sauce==\"YES\": # 真值表結果\n",
        "    ...: \tprint(\"今天晚上吃義大利麵\")\n",
        "\n",
        "有麵嗎？ YES or NO: YES\n",
        "\n",
        "有醬料嗎？ YES or NO: YES\n",
        "今天晚上吃義大利麵\n",
        "\n",
        "In [11]: ## 方法（二）\n",
        "    ...: if noodle == \"YES\":\n",
        "    ...: \tif sauce == \"YES\":\n",
        "    ...: \t\tprint(\"今天晚上吃義大利麵\")\n",
        "    ...:         \n",
        "今天晚上吃義大利麵"
      ],
      "execution_count": null,
      "outputs": []
    },
    {
      "cell_type": "code",
      "metadata": {
        "colab": {
          "base_uri": "https://localhost:8080/"
        },
        "id": "xZx6ivXWAUZe",
        "outputId": "58611369-ffa6-4d7c-d70e-057b84abefcd"
      },
      "source": [
        "noodle = input(\"有麵條嗎？有or沒有  \")\n",
        "sauce = input(\"有醬料嗎？有or沒有  \")\n",
        "\n",
        "if noodle == \"有\" and sauce == \"有\":\n",
        "    print(\"都有阿~那來吃義大利麵吧！！！\")\n",
        "\n",
        "if noodle == \"沒有\" and sauce == \"沒有\":\n",
        "    print(\"都沒有？！那吃什麼義大利麵?\")\n",
        "\n",
        "if noodle == \"有\" and sauce == \"沒有\":\n",
        "    print(\"沒有醬料?　去買阿\")\n",
        "\n",
        "if noodle == \"沒有\" and sauce == \"有\":\n",
        "    print(\"義大利麵沒有麵，怎麼會是義大利麵？\")"
      ],
      "execution_count": null,
      "outputs": [
        {
          "output_type": "stream",
          "text": [
            "有麵條嗎？有or沒有  沒有\n",
            "有醬料嗎？有or沒有  沒有\n",
            "都沒有？！那吃什麼義大利麵?\n"
          ],
          "name": "stdout"
        }
      ]
    },
    {
      "cell_type": "markdown",
      "metadata": {
        "id": "m3MvrouTtByB"
      },
      "source": [
        "## 2.  雙向選擇\n"
      ]
    },
    {
      "cell_type": "code",
      "metadata": {
        "id": "Jx8_wyX0tByB"
      },
      "source": [
        "**範例: 判斷及格與不及格**\n",
        "\n",
        " In [1]: score = int(input('請輸入一個成績？'))\n",
        "    ...: if score >= 60:\n",
        "    ...:     print('有及格ㄡ～')\n",
        "    ...: else:\n",
        "    ...:     print('不及格ㄟ！')\n",
        "    ...:     \n",
        "\n",
        "請輸入一個成績？88\n",
        "有及格ㄡ～"
      ],
      "execution_count": null,
      "outputs": []
    },
    {
      "cell_type": "code",
      "metadata": {
        "colab": {
          "base_uri": "https://localhost:8080/"
        },
        "id": "cXA4rDU7tByB",
        "outputId": "87762f63-38a1-4001-af75-f47b11f94a03"
      },
      "source": [
        "score = int(input(\"請輸入你的成績：\"))\n",
        "\n",
        "if score >= 60:\n",
        "    print (\"有及格誒！請保持好咧\")\n",
        "else:\n",
        "    print(\"不及格誒,請加油好嗎？\")"
      ],
      "execution_count": null,
      "outputs": [
        {
          "output_type": "stream",
          "text": [
            "請輸入你的成績：20\n",
            "不及格誒,請加油好嗎？\n"
          ],
          "name": "stdout"
        }
      ]
    },
    {
      "cell_type": "markdown",
      "metadata": {
        "id": "qilB2oOgtByC"
      },
      "source": [
        "#### 隨堂練習: 滿2000 打九折\n",
        "\n",
        "**請寫一個程式幫助店家計算顧客所需付出的金額。**\n",
        "\n",
        "採買物品時，有時會遇到店家為了刺激消費，會使用滿額折扣。例如，滿2000 打九折，未滿2000 則不打折。"
      ]
    },
    {
      "cell_type": "code",
      "metadata": {
        "id": "tju9YoEjtByC"
      },
      "source": [
        ""
      ],
      "execution_count": null,
      "outputs": []
    },
    {
      "cell_type": "code",
      "metadata": {
        "id": "rHwRSCJPtByC"
      },
      "source": [
        "#### 範例 三角形判斷\n",
        "\n",
        "設計一個程式允許輸入三角形三邊長，分別為a、b 與c，根據三角形中任兩邊相加要大於第三邊，判斷是否為三角形。\n",
        "\n",
        "In [1]: a = int(input('請輸入三角形邊長a長度為？'))\n",
        "    ...: b = int(input('請輸入三角形邊長b長度為？'))\n",
        "    ...: c = int(input('請輸入三角形邊長c長度為？'))\n",
        "    ...: \n",
        "    ...: if (a < b + c)and(b < a + c)and( c < a + b):   #任兩邊相加是否大於第三邊\n",
        "    ...:     print('可構成三角形')\n",
        "    ...: else:\n",
        "    ...:     print('無法構成三角形')\n",
        "    ...:     \n",
        "\n",
        "請輸入三角形邊長a長度為？3\n",
        "\n",
        "請輸入三角形邊長b長度為？4\n",
        "\n",
        "請輸入三角形邊長c長度為？5\n",
        "可構成三角形"
      ],
      "execution_count": null,
      "outputs": []
    },
    {
      "cell_type": "code",
      "metadata": {
        "colab": {
          "base_uri": "https://localhost:8080/"
        },
        "id": "mg5FkgXotByD",
        "outputId": "72159224-5794-4b68-9797-74f54277fedb"
      },
      "source": [
        "a = int(input(\"請輸入三角形邊長a的長度為：\"))\n",
        "b = int(input(\"請輸入三角形邊長b的長度為：\"))\n",
        "c = int(input(\"請輸入三角形邊長c的長度為：\"))\n",
        "\n",
        "if (a+b>c) and (a+c>b) and (b+c>a):\n",
        "    print(\"它們可以是三角形喔~\")\n",
        "else:\n",
        "    print(\"它們不能成為三角形,再想想\")"
      ],
      "execution_count": null,
      "outputs": [
        {
          "output_type": "stream",
          "text": [
            "請輸入三角形邊長a的長度為：3\n",
            "請輸入三角形邊長b的長度為：3\n",
            "請輸入三角形邊長c的長度為：7\n",
            "它們不能成為三角形,再想想\n"
          ],
          "name": "stdout"
        }
      ]
    },
    {
      "cell_type": "markdown",
      "metadata": {
        "id": "5zRF2Vd8tByD"
      },
      "source": [
        "#### 隨堂練習: 判斷奇偶數\n",
        "\n",
        "請寫一個程式判斷輸入的值是奇數還是偶數。"
      ]
    },
    {
      "cell_type": "code",
      "metadata": {
        "id": "OmZDsPkBtByD"
      },
      "source": [
        ""
      ],
      "execution_count": null,
      "outputs": []
    },
    {
      "cell_type": "markdown",
      "metadata": {
        "id": "VAXbLLbYtByD"
      },
      "source": [
        "## 3. 多向選擇\n"
      ]
    },
    {
      "cell_type": "code",
      "metadata": {
        "id": "owRZPvEptByD"
      },
      "source": [
        "#### 範例：兩個數比大小\n",
        "\n",
        "In [1]: ## Input\n",
        "    ...: num1 = int(input(\"Please input a number: \"))\n",
        "    ...: num2 = int(input(\"Please input another number: \"))\n",
        "    ...: \n",
        "    ...: ## Process＋ Output\n",
        "    ...: if num1 == num2:\n",
        "    ...:     print(num1, \"等於\", num2)\n",
        "    ...: elif num1 < num2:\n",
        "    ...:     print(num1, \"小於\", num2)\n",
        "    ...: else:\n",
        "    ...:     print(num1, \"大於\", num2)\n",
        "\n",
        "Please input a number: 5\n",
        "\n",
        "Please input another number: 8\n",
        "5 小於 8"
      ],
      "execution_count": null,
      "outputs": []
    },
    {
      "cell_type": "code",
      "metadata": {
        "id": "gXAmZwXmtByE"
      },
      "source": [
        ""
      ],
      "execution_count": null,
      "outputs": []
    },
    {
      "cell_type": "code",
      "metadata": {
        "id": "dLvnKsPltByE"
      },
      "source": [
        "#### 範例 : 郵資計算\n",
        "\n",
        "某快遞公司以重量為計算郵資的依據，重量與郵資計算如下表，請寫一個程式協助快遞人員計算郵資，快遞人員只要輸入重量，程式自動計算郵資。\n",
        "\n",
        "In [1]: ## 郵資計算\n",
        "    ...: w = float(input('請輸入物品重量？')) # Input\n",
        "    ...: \n",
        "    ...: if w <= 5:                          \n",
        "    ...:     print('所需郵資為50元')\n",
        "    ...: elif w <= 10:\n",
        "    ...:     print('所需郵資為70元')\n",
        "    ...: elif w <= 15:\n",
        "    ...:     print('所需郵資為90元')\n",
        "    ...: elif w <= 20:\n",
        "    ...:     print('所需郵資為110元')\n",
        "    ...: else:\n",
        "    ...:     print('超過20公斤無法寄送')\n",
        "\n",
        "請輸入物品重量？20\n",
        "所需郵資為110元"
      ],
      "execution_count": null,
      "outputs": []
    },
    {
      "cell_type": "code",
      "metadata": {
        "id": "PLt0t7ZntByF"
      },
      "source": [
        ""
      ],
      "execution_count": null,
      "outputs": []
    },
    {
      "cell_type": "markdown",
      "metadata": {
        "id": "otx-8GiStByF"
      },
      "source": [
        "#### 隨堂練習： BMI 計算\n",
        "\n",
        "**請寫一個程式讓使用者輸入身高與體重，顯示BMI 值與肥胖程度。**"
      ]
    },
    {
      "cell_type": "code",
      "metadata": {
        "id": "ozEGekhUtByF"
      },
      "source": [
        ""
      ],
      "execution_count": null,
      "outputs": []
    }
  ]
}