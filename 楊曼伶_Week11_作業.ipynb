{
  "nbformat": 4,
  "nbformat_minor": 0,
  "metadata": {
    "kernelspec": {
      "display_name": "Python 3",
      "language": "python",
      "name": "python3"
    },
    "language_info": {
      "codemirror_mode": {
        "name": "ipython",
        "version": 3
      },
      "file_extension": ".py",
      "mimetype": "text/x-python",
      "name": "python",
      "nbconvert_exporter": "python",
      "pygments_lexer": "ipython3",
      "version": "3.8.5"
    },
    "colab": {
      "name": "楊曼伶-Week11-作業.ipynb",
      "provenance": [],
      "collapsed_sections": [],
      "include_colab_link": true
    }
  },
  "cells": [
    {
      "cell_type": "markdown",
      "metadata": {
        "id": "view-in-github",
        "colab_type": "text"
      },
      "source": [
        "<a href=\"https://colab.research.google.com/github/A109010022/Computational-Thinking-and-Program-Design/blob/main/%E6%A5%8A%E6%9B%BC%E4%BC%B6_Week11_%E4%BD%9C%E6%A5%AD.ipynb\" target=\"_parent\"><img src=\"https://colab.research.google.com/assets/colab-badge.svg\" alt=\"Open In Colab\"/></a>"
      ]
    },
    {
      "cell_type": "markdown",
      "metadata": {
        "id": "lGag9MYnq61K"
      },
      "source": [
        "# 基本程式設計(應用篇)"
      ]
    },
    {
      "cell_type": "markdown",
      "metadata": {
        "id": "YrSNQ816q61S"
      },
      "source": [
        "### 4-2 運算思維四個基石"
      ]
    },
    {
      "cell_type": "markdown",
      "metadata": {
        "id": "UNHsccubq61T"
      },
      "source": [
        "#### 4-2-4  問題拆解 - 打造你的聊天機器人"
      ]
    },
    {
      "cell_type": "markdown",
      "metadata": {
        "id": "2M1wRA8cq61U"
      },
      "source": [
        "「哈囉，大家好。我叫Zyxo64，是一個聊天機器人。\n",
        "\n",
        "在嗜好與興趣方面，我很喜歡美食，也喜歡養動物。\n",
        "\n",
        "很高興有機會來到世新大學，請大家多多指教。\n",
        "\n",
        "嗨！妳好，請問大名？：Francis。\n",
        "\n",
        "Francis，很高興認識你。"
      ]
    },
    {
      "cell_type": "code",
      "metadata": {
        "id": "bXgYMPEqq61U",
        "colab": {
          "base_uri": "https://localhost:8080/"
        },
        "outputId": "7e727109-c15e-4fd7-de86-0f6d4a173641"
      },
      "source": [
        "# 1.聊天機器人自我介紹\n",
        "print(\"哈囉，大家好。我叫Zyxo64，是一個聊天機器人。\")\n",
        "print(\"在嗜好與興趣方面，我很喜歡美食，也喜歡養動物。\")\n",
        "print(\"很高興有機會來到世新大學，請大家多多指教。\")\n",
        "# 2. 打招呼，取得對方名字\n",
        "name=input(\"嗨！妳好，請問大名？：\")\n",
        "print(f\"{name},很高興認識你。\")"
      ],
      "execution_count": 6,
      "outputs": [
        {
          "output_type": "stream",
          "text": [
            "哈囉，大家好。我叫Zyxo64，是一個聊天機器人。\n",
            "在嗜好與興趣方面，我很喜歡美食，也喜歡養動物。\n",
            "很高興有機會來到世新大學，請大家多多指教。\n",
            "嗨！妳好，請問大名？：Mandy\n",
            "Mandy,很高興認識你。\n"
          ],
          "name": "stdout"
        }
      ]
    },
    {
      "cell_type": "markdown",
      "metadata": {
        "id": "6VGDP7HRq61V"
      },
      "source": [
        "\n",
        "抱歉，請問一下今年是西元2021年，那是民國幾年呢？：*110*。\n",
        "\n",
        "對！沒錯，謝謝妳！\n",
        "\n",
        "**Francis**，猜猜看我今年幾歲？ ：**18**。\n",
        "\n",
        "哇！你好聰明，我今年的確*18*。\n",
        "\n",
        "再82年我就100歲了。\n",
        "\n",
        "那時候是西元 2103年，也就是民國192年囉！"
      ]
    },
    {
      "cell_type": "code",
      "metadata": {
        "id": "uU3_Zm5oq61W",
        "colab": {
          "base_uri": "https://localhost:8080/"
        },
        "outputId": "c60d6ff5-95d4-46f0-a8d2-4d13f92e7ed8"
      },
      "source": [
        "# 3. 數學運算\n",
        "## 3-1 從使用者取得今年年份\n",
        "year=input(\"抱歉，請問一下今年是西元2021年，那是民國幾年呢？：\")\n",
        "print(\"對！沒錯，謝謝妳！\")\n",
        "\n",
        "## 3-2 請使用者猜年齡\n",
        "age=input(\"那你猜猜看我幾歲？：\")\n",
        "print(\"哇！你好聰明，我今年的確\"f\"{age}歲。\")\n",
        "## 3-3 計算聊天機器人滿100歲的年份\n",
        "year = int(year)\n",
        "age = int(age)\n",
        "print(f\"再{100-age}年我就100歲了。\")\n",
        "\n",
        "time = year + 1911 + (100-age)\n",
        "print(f\"那時候是西元{time}年，也就是民國{time-1911}年囉！\")"
      ],
      "execution_count": 13,
      "outputs": [
        {
          "output_type": "stream",
          "text": [
            "抱歉，請問一下今年是西元2021年，那是民國幾年呢？：110\n",
            "對！沒錯，謝謝妳！\n",
            "那你猜猜看我幾歲？：19\n",
            "哇！你好聰明，我今年的確19歲。\n",
            "再81年我就100歲了。\n",
            "那時候是西元2102年，也就是民國191年囉！\n"
          ],
          "name": "stdout"
        }
      ]
    },
    {
      "cell_type": "markdown",
      "metadata": {
        "id": "109giHeKq61W"
      },
      "source": [
        "我喜歡吃巧克力，也喜歡嘗試各種新食物。\n",
        "\n",
        "你呢？你最喜歡的食物是什麼？**:披薩**。\n",
        "\n",
        "我也喜歡 *披薩*。\n",
        "\n",
        "你多久吃一次 *披薩*？**：每天**。\n",
        "\n",
        "真有趣。不知道這樣對健康好不好。"
      ]
    },
    {
      "cell_type": "code",
      "metadata": {
        "id": "3hndiyS2q61X",
        "colab": {
          "base_uri": "https://localhost:8080/"
        },
        "outputId": "1ce607f9-6a60-4066-b9d3-dc105cdf53c0"
      },
      "source": [
        "# 4 興趣\n",
        "## 4-1 食物話題\n",
        "print(\"我喜歡吃巧克力，也喜歡嘗試各種新食物。\")\n",
        "\n",
        "food = input(\"你呢？你最喜歡的食物是什麼？:\")\n",
        "print(f\"我也喜歡{food}。\")\n",
        "howoften = input(\"你多久吃一次\"+food+\"？：\")\n",
        "print(\"真有趣。不知道這樣對健康好不好。\")"
      ],
      "execution_count": 15,
      "outputs": [
        {
          "output_type": "stream",
          "text": [
            "我喜歡吃巧克力，也喜歡嘗試各種新食物。\n",
            "你呢？你最喜歡的食物是什麼？:jelly\n",
            "我也喜歡jelly。\n",
            "你多久吃一次jelly？：one day\n",
            "真有趣。不知道這樣對健康好不好。\n"
          ],
          "name": "stdout"
        }
      ]
    },
    {
      "cell_type": "markdown",
      "metadata": {
        "id": "pfQx825Nq61X"
      },
      "source": [
        "我最喜歡的動物是長頸鹿。你呢？ **：烏龜**。\n",
        "\n",
        "我不喜歡*烏龜*！\n",
        "\n",
        "不知道 *烏龜* 喜不喜歡吃 *披薩*？"
      ]
    },
    {
      "cell_type": "code",
      "metadata": {
        "id": "6cOG1Mmxq61Y",
        "colab": {
          "base_uri": "https://localhost:8080/"
        },
        "outputId": "72eb60e1-e28f-485c-c6b6-1ead8afc7d8b"
      },
      "source": [
        "# 4 興趣\n",
        "## 4-2 動物話題\n",
        "print(\"我喜歡吃巧克力，也喜歡嘗試各種新食物。\")\n",
        "\n",
        "food = input(\"你呢？你最喜歡的食物是什麼？:\")\n",
        "print(f\"我也喜歡{food}。\")\n",
        "howoften = input(\"你多久吃一次\"+food+\"？：\")\n",
        "print(\"真有趣。不知道這樣對健康好不好。\")\n",
        "ani = input(\"我最喜歡的動物是長頸鹿。你呢？\")\n",
        "print(f\"我不喜歡{ani}！\")\n",
        "print(\"不知道\"+ani+\"喜不喜歡吃\"+food+\"？\")"
      ],
      "execution_count": 17,
      "outputs": [
        {
          "output_type": "stream",
          "text": [
            "我喜歡吃巧克力，也喜歡嘗試各種新食物。\n",
            "你呢？你最喜歡的食物是什麼？:jelly\n",
            "我也喜歡jelly。\n",
            "你多久吃一次jelly？：everyday\n",
            "真有趣。不知道這樣對健康好不好。\n",
            "我最喜歡的動物是長頸鹿。你呢？fish\n",
            "我不喜歡fish！\n",
            "不知道fish喜不喜歡吃jelly？\n"
          ],
          "name": "stdout"
        }
      ]
    },
    {
      "cell_type": "markdown",
      "metadata": {
        "id": "Ln9i0dSAq61Y"
      },
      "source": [
        "你今天的心情如何？ **：很開心**。\n",
        "\n",
        "可以告訴我你 *開心* 的原因嗎？**因為週末了！** \n",
        "\n",
        "祝你週末愉快！\n",
        "\n",
        "我喜歡跟你聊天，現在有點累了，改天再聊吧！！\n",
        "\n",
        "再見 *Francis*！"
      ]
    },
    {
      "cell_type": "code",
      "metadata": {
        "id": "pcLsq6E9q61Y",
        "colab": {
          "base_uri": "https://localhost:8080/"
        },
        "outputId": "99fb1dc6-d18d-423e-f640-0b2e7d3a4712"
      },
      "source": [
        "# 5. 關於心情的對話\n",
        "mood = input(\"你今天的心情如何？：\")\n",
        "\n",
        "input(f\"可以告訴我你{mood}的原因嗎？\")\n",
        "\n",
        "print(\"祝你週末愉快！\")\n",
        "\n",
        "print(\"我喜歡跟你聊天，現在有點累了，改天再聊吧！！\")\n",
        "\n",
        "print(\"再見，新朋友！\")"
      ],
      "execution_count": 21,
      "outputs": [
        {
          "output_type": "stream",
          "text": [
            "你今天的心情如何？：happy\n",
            "可以告訴我你happy的原因嗎？today is holiday\n",
            "祝你週末愉快！\n",
            "我喜歡跟你聊天，現在有點累了，改天再聊吧！！\n",
            "再見，新朋友！\n"
          ],
          "name": "stdout"
        }
      ]
    },
    {
      "cell_type": "markdown",
      "metadata": {
        "id": "i_YPKM_Kq61Z"
      },
      "source": [
        "我喜歡跟你聊天，現在有點累了，改天再聊吧！！\n",
        "\n",
        "再見 *Francis*！"
      ]
    },
    {
      "cell_type": "code",
      "metadata": {
        "id": "q_t1IGGXq61Z"
      },
      "source": [
        "# 6. 道別\n"
      ],
      "execution_count": null,
      "outputs": []
    },
    {
      "cell_type": "markdown",
      "metadata": {
        "id": "sGBKYLn6q61a"
      },
      "source": [
        "## 期末報告"
      ]
    },
    {
      "cell_type": "markdown",
      "metadata": {
        "id": "EQzmbF8Hq61a"
      },
      "source": [
        "### 組長(學號姓名):\n",
        "\n"
      ]
    },
    {
      "cell_type": "markdown",
      "metadata": {
        "id": "WAgw63Qhq61b"
      },
      "source": [
        "### 組員(學號姓名):\n",
        "\n"
      ]
    },
    {
      "cell_type": "markdown",
      "metadata": {
        "id": "ycgVqPfMq61b"
      },
      "source": [
        "### 題目:"
      ]
    },
    {
      "cell_type": "markdown",
      "metadata": {
        "id": "4HiDvN4dq61b"
      },
      "source": [
        "### 百字腳本\n",
        "\n"
      ]
    }
  ]
}